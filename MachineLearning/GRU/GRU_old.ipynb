{
 "cells": [
  {
   "cell_type": "code",
   "execution_count": null,
   "metadata": {},
   "outputs": [],
   "source": [
    "import torch\n",
    "\n",
    "torch.manual_seed(0)\n",
    "torch.backends.cudnn.deterministic = False\n",
    "torch.backends.cudnn.benchmark = True\n",
    "import numpy as np\n",
    "import torch.nn as nn\n",
    "from torch.utils.data.dataset import Dataset\n",
    "\n",
    "import pandas as pd\n",
    "\n",
    "import tqdm, sys, os, gc, argparse, warnings\n",
    "\n",
    "warnings.filterwarnings(\"ignore\")\n",
    "\n",
    "import gc\n",
    "\n",
    "if torch.cuda.is_available():\n",
    "    device = torch.device(\"cuda\")\n",
    "else:\n",
    "    device = torch.device(\"cpu\")"
   ]
  },
  {
   "cell_type": "code",
   "execution_count": null,
   "metadata": {},
   "outputs": [],
   "source": [
    "# path = \"../data/\"\n",
    "\n",
    "# train_files = os.listdir(path + \"train\")\n",
    "# train_df = pd.DataFrame()\n",
    "# for filename in tqdm.tqdm(train_files):\n",
    "#     tmp = pd.read_csv(path + \"train/\" + filename)\n",
    "#     tmp[\"file\"] = filename\n",
    "#     train_df = pd.concat([train_df, tmp], axis=0, ignore_index=True)\n",
    "\n",
    "# test_files = os.listdir(path + \"test\")\n",
    "# test_df = pd.DataFrame()\n",
    "# for filename in tqdm.tqdm(test_files):\n",
    "#     tmp = pd.read_csv(path + \"test/\" + filename)\n",
    "#     tmp[\"file\"] = filename\n",
    "#     test_df = pd.concat([test_df, tmp], axis=0, ignore_index=True)"
   ]
  },
  {
   "cell_type": "code",
   "execution_count": null,
   "metadata": {},
   "outputs": [],
   "source": [
    "# train_df[\"tick\"] = (\n",
    "#     (train_df[\"date\"] * 24 + train_df[\"time\"].apply(lambda x: int(x.split(\":\")[0])))\n",
    "#     * 60\n",
    "#     + train_df[\"time\"].apply(lambda x: int(x.split(\":\")[1]))\n",
    "# ) * 20 + train_df[\"time\"].apply(lambda x: int(x.split(\":\")[2])) // 3\n",
    "# test_df[\"tick\"] = (\n",
    "#     (test_df[\"date\"] * 24 + test_df[\"time\"].apply(lambda x: int(x.split(\":\")[0]))) * 60\n",
    "#     + test_df[\"time\"].apply(lambda x: int(x.split(\":\")[1]))\n",
    "# ) * 20 + test_df[\"time\"].apply(lambda x: int(x.split(\":\")[2])) // 3\n",
    "\n",
    "# train_df = train_df.sort_values([\"sym\", \"tick\"])\n",
    "# test_df = test_df.sort_values([\"sym\", \"tick\"])\n",
    "\n",
    "# cols=['file' ,'uuid','n_close' ,'amount_delta', 'n_midprice', 'n_bid1', 'n_bsize1', 'n_bid2', 'n_bsize2', 'n_ask1', 'n_asize1', 'n_ask2', 'n_asize2']\n",
    "# target_df=train_df[['label_5','label_10','label_20','label_40','label_60']]\n",
    "# train_df=train_df[cols]\n",
    "# test_df=test_df[cols]"
   ]
  },
  {
   "cell_type": "code",
   "execution_count": null,
   "metadata": {},
   "outputs": [],
   "source": [
    "# target_df.to_csv('.\\data\\\\target.csv',index=False)\n",
    "# train_df.to_csv('.\\data\\\\train.csv',index=False)\n",
    "# test_df.to_csv('.\\data\\\\test.csv',index=False)"
   ]
  },
  {
   "cell_type": "code",
   "execution_count": null,
   "metadata": {},
   "outputs": [],
   "source": [
    "train_df=pd.read_csv('.\\data\\\\train.csv')\n",
    "target_df=pd.read_csv('.\\data\\\\target.csv')\n",
    "test_df=pd.read_csv('./data//test.csv')"
   ]
  },
  {
   "cell_type": "code",
   "execution_count": null,
   "metadata": {},
   "outputs": [],
   "source": []
  }
 ],
 "metadata": {
  "kernelspec": {
   "display_name": "Pytorch2",
   "language": "python",
   "name": "python3"
  },
  "language_info": {
   "codemirror_mode": {
    "name": "ipython",
    "version": 3
   },
   "file_extension": ".py",
   "mimetype": "text/x-python",
   "name": "python",
   "nbconvert_exporter": "python",
   "pygments_lexer": "ipython3",
   "version": "3.10.12"
  },
  "orig_nbformat": 4
 },
 "nbformat": 4,
 "nbformat_minor": 2
}
